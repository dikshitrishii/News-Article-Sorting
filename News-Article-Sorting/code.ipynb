{
 "cells": [
  {
   "cell_type": "code",
   "execution_count": 1,
   "metadata": {},
   "outputs": [],
   "source": [
    "import numpy as np\n",
    "import pandas as pd"
   ]
  },
  {
   "cell_type": "code",
   "execution_count": 3,
   "metadata": {},
   "outputs": [],
   "source": [
    "import os\n",
    "current_directory = os.getcwd()\n",
    "relative_path = \"Dataset/BBC News Train.csv\"\n",
    "file_path = os.path.join(current_directory, relative_path)\n",
    "train_df = pd.read_csv(file_path)\n",
    "\n"
   ]
  },
  {
   "cell_type": "code",
   "execution_count": 4,
   "metadata": {},
   "outputs": [],
   "source": [
    "target = {'business': 0, 'sport': 1, 'politics': 2, 'entertainment': 3, 'tech': 4}\n",
    "\n",
    "train_df['Category_num'] = train_df['Category'].map(target)"
   ]
  },
  {
   "cell_type": "code",
   "execution_count": 5,
   "metadata": {},
   "outputs": [],
   "source": [
    "from sklearn.model_selection import train_test_split\n",
    "\n",
    "X_train, X_test, y_train, y_test = train_test_split(\n",
    "    train_df['Text'], \n",
    "    train_df['Category_num'], \n",
    "    test_size=0.2,\n",
    "    random_state=2000,\n",
    "    stratify=train_df['Category_num']\n",
    ")"
   ]
  },
  {
   "cell_type": "markdown",
   "metadata": {},
   "source": [
    "Up there we have created training dataset"
   ]
  },
  {
   "cell_type": "code",
   "execution_count": 5,
   "metadata": {},
   "outputs": [
    {
     "name": "stdout",
     "output_type": "stream",
     "text": [
      "              precision    recall  f1-score   support\n",
      "\n",
      "           0       0.97      0.97      0.97        67\n",
      "           1       1.00      0.97      0.99        69\n",
      "           2       0.95      0.96      0.95        55\n",
      "           3       0.98      1.00      0.99        55\n",
      "           4       0.98      0.98      0.98        52\n",
      "\n",
      "    accuracy                           0.98       298\n",
      "   macro avg       0.98      0.98      0.98       298\n",
      "weighted avg       0.98      0.98      0.98       298\n",
      "\n"
     ]
    }
   ],
   "source": [
    "from sklearn.feature_extraction.text import CountVectorizer\n",
    "from sklearn.naive_bayes import MultinomialNB\n",
    "from sklearn.pipeline import Pipeline\n",
    "from sklearn.metrics import classification_report\n",
    "\n",
    "clf = Pipeline([\n",
    "     ('vectorizer_bow', CountVectorizer(ngram_range = (1, 1))),\n",
    "     ('Multi NB', MultinomialNB())         \n",
    "])\n",
    "clf.fit(X_train, y_train)\n",
    "y_pred = clf.predict(X_test)\n",
    "print(classification_report(y_test, y_pred))"
   ]
  },
  {
   "cell_type": "code",
   "execution_count": 6,
   "metadata": {},
   "outputs": [],
   "source": [
    "def predict(text):\n",
    "    \n",
    "    #Text Preprocessing\n",
    "    import re\n",
    "    def preprocess(text):\n",
    "     text = re.sub(r'[^\\w\\s\\']',' ', text)\n",
    "     text = re.sub(r'[ \\n]+', ' ', text)\n",
    "     return text.strip().lower()\n",
    "    \n",
    "    #Converting into array format\n",
    "    def input(a):\n",
    "        arr = np.array([a])\n",
    "        return arr\n",
    "    \n",
    "    \n",
    "    preprocessed_text = preprocess(text)\n",
    "    corr_form = input(preprocessed_text)\n",
    "    prediction = clf.predict(corr_form)\n",
    "\n",
    "\n",
    "    # Mapping back to category names\n",
    "    categories = {0: 'business', 1: 'sports', 2: 'politics', 3: 'entertainment', 4: 'tech'}\n",
    "\n",
    "    # Get the category or default message\n",
    "    category_message = categories.get(prediction[0], 'Not covered in category of business, sports, politics, entertainment and tech.')\n",
    "\n",
    "    print(f'It is a {category_message} news.')\n"
   ]
  },
  {
   "cell_type": "code",
   "execution_count": 8,
   "metadata": {},
   "outputs": [
    {
     "data": {
      "text/plain": [
       "['/Users/dikshitrishi/Desktop/Codes/News-Article-Sorting/model/article_classifier_model.joblib']"
      ]
     },
     "execution_count": 8,
     "metadata": {},
     "output_type": "execute_result"
    }
   ],
   "source": [
    "import joblib\n",
    "\n",
    "# Save the trained model\n",
    "joblib.dump(clf, '/Users/dikshitrishi/Desktop/Codes/News-Article-Sorting/model/article_classifier_model.joblib')\n"
   ]
  },
  {
   "cell_type": "code",
   "execution_count": null,
   "metadata": {},
   "outputs": [],
   "source": []
  }
 ],
 "metadata": {
  "kernelspec": {
   "display_name": "base",
   "language": "python",
   "name": "python3"
  },
  "language_info": {
   "codemirror_mode": {
    "name": "ipython",
    "version": 3
   },
   "file_extension": ".py",
   "mimetype": "text/x-python",
   "name": "python",
   "nbconvert_exporter": "python",
   "pygments_lexer": "ipython3",
   "version": "3.10.9"
  }
 },
 "nbformat": 4,
 "nbformat_minor": 2
}
